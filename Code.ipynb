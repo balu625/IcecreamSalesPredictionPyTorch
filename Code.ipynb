{
 "cells": [
  {
   "cell_type": "code",
   "id": "initial_id",
   "metadata": {
    "collapsed": true,
    "ExecuteTime": {
     "end_time": "2025-04-25T17:21:24.396384Z",
     "start_time": "2025-04-25T17:21:24.387019Z"
    }
   },
   "source": [
    "#importing essential libraries\n",
    "import pandas as pd\n",
    "import torch\n",
    "import torch.nn as nn\n",
    "import torch.optim as optim\n",
    "from sklearn.model_selection import train_test_split\n",
    "from sklearn.preprocessing import StandardScaler\n",
    "import matplotlib.pyplot as plt\n"
   ],
   "outputs": [],
   "execution_count": 40
  },
  {
   "metadata": {
    "ExecuteTime": {
     "end_time": "2025-04-25T16:27:49.701229Z",
     "start_time": "2025-04-25T16:27:49.688253Z"
    }
   },
   "cell_type": "code",
   "source": [
    "#Data Creation and Exploration\n",
    "\n",
    "data={'temperature':range(30,101),'sales':[50+1.5*temp+10*torch.randn(1).item() for temp in range(30,101)]}\n",
    "icecream_data=pd.DataFrame(data)\n",
    "icecream_data.head(3)"
   ],
   "id": "f7094bd5663a37ed",
   "outputs": [
    {
     "data": {
      "text/plain": [
       "   temperature      sales\n",
       "0           30  97.516662\n",
       "1           31  99.737675\n",
       "2           32  98.900745"
      ],
      "text/html": [
       "<div>\n",
       "<style scoped>\n",
       "    .dataframe tbody tr th:only-of-type {\n",
       "        vertical-align: middle;\n",
       "    }\n",
       "\n",
       "    .dataframe tbody tr th {\n",
       "        vertical-align: top;\n",
       "    }\n",
       "\n",
       "    .dataframe thead th {\n",
       "        text-align: right;\n",
       "    }\n",
       "</style>\n",
       "<table border=\"1\" class=\"dataframe\">\n",
       "  <thead>\n",
       "    <tr style=\"text-align: right;\">\n",
       "      <th></th>\n",
       "      <th>temperature</th>\n",
       "      <th>sales</th>\n",
       "    </tr>\n",
       "  </thead>\n",
       "  <tbody>\n",
       "    <tr>\n",
       "      <th>0</th>\n",
       "      <td>30</td>\n",
       "      <td>97.516662</td>\n",
       "    </tr>\n",
       "    <tr>\n",
       "      <th>1</th>\n",
       "      <td>31</td>\n",
       "      <td>99.737675</td>\n",
       "    </tr>\n",
       "    <tr>\n",
       "      <th>2</th>\n",
       "      <td>32</td>\n",
       "      <td>98.900745</td>\n",
       "    </tr>\n",
       "  </tbody>\n",
       "</table>\n",
       "</div>"
      ]
     },
     "execution_count": 3,
     "metadata": {},
     "output_type": "execute_result"
    }
   ],
   "execution_count": 3
  },
  {
   "metadata": {
    "ExecuteTime": {
     "end_time": "2025-04-25T16:27:56.995513Z",
     "start_time": "2025-04-25T16:27:56.071275Z"
    }
   },
   "cell_type": "code",
   "source": [
    "#visualization relationship\n",
    "plt.scatter(icecream_data['temperature'],icecream_data['sales'])\n",
    "plt.xlabel('Temperature')\n",
    "plt.ylabel('sales')\n",
    "plt.title('icecream sales vs temperature')\n",
    "plt.show()"
   ],
   "id": "81b1d490bd36bc1",
   "outputs": [
    {
     "data": {
      "text/plain": [
       "<Figure size 640x480 with 1 Axes>"
      ],
      "image/png": "[encoded data removed]"
     },
     "metadata": {},
     "output_type": "display_data"
    }
   ],
   "execution_count": 4
  },
  {
   "metadata": {
    "ExecuteTime": {
     "end_time": "2025-04-25T16:30:34.367790Z",
     "start_time": "2025-04-25T16:30:34.360076Z"
    }
   },
   "cell_type": "code",
   "source": [
    "# Device agnostic conditional : gpu/cpu\n",
    "device='cuda' if torch.cuda.is_available() else 'cpu'\n",
    "print(f'Device is :{device}')"
   ],
   "id": "1a23ffcc3f7a66c1",
   "outputs": [
    {
     "name": "stdout",
     "output_type": "stream",
     "text": [
      "Device is :cpu\n"
     ]
    }
   ],
   "execution_count": 6
  },
  {
   "metadata": {
    "ExecuteTime": {
     "end_time": "2025-04-25T17:21:30.257453Z",
     "start_time": "2025-04-25T17:21:30.244831Z"
    }
   },
   "cell_type": "code",
   "source": [
    "#preprocessing the data\n",
    "X=icecream_data['temperature']\n",
    "y=icecream_data['sales']\n",
    "scaler=StandardScaler()\n",
    "X_new=X.to_frame()\n",
    "X_scaler=scaler.fit_transform(X_new)\n",
    "X_tensor=torch.tensor(X_scaler,dtype=torch.float32)\n",
    "y_tensor=torch.tensor(y.values,dtype=torch.float32).view(-1,1)\n",
    "X_train,X_test,y_train,y_test = train_test_split(X_tensor,y_tensor,test_size=0.2,random_state=42)"
   ],
   "id": "e3a8ea6d13cbf538",
   "outputs": [],
   "execution_count": 41
  },
  {
   "metadata": {
    "ExecuteTime": {
     "end_time": "2025-04-25T16:56:13.262945Z",
     "start_time": "2025-04-25T16:56:13.253154Z"
    }
   },
   "cell_type": "code",
   "source": [
    "# Model Building\n",
    "class LinearRegressionModel(nn.Module):\n",
    "    def __init__(self,input_size):\n",
    "        super(LinearRegressionModel,self).__init__()\n",
    "        self.linear=nn.Linear(input_size,1)\n",
    "    def forward(self,x):\n",
    "        return self.linear(x)\n",
    "model=LinearRegressionModel(X_train.shape[1])"
   ],
   "id": "bcf8a74770756c6b",
   "outputs": [],
   "execution_count": 35
  },
  {
   "metadata": {
    "ExecuteTime": {
     "end_time": "2025-04-25T16:59:30.937102Z",
     "start_time": "2025-04-25T16:59:10.051615Z"
    }
   },
   "cell_type": "code",
   "source": [
    "#model Training\n",
    "loss_function=nn.MSELoss()   #Loss_function calculating\n",
    "optimizer=optim.SGD(model.parameters(),lr=0.02)  #Learning rate in optimizer\n",
    "epochs=400\n",
    "train_loss_values=[]"
   ],
   "id": "a73cb680d2a62c47",
   "outputs": [],
   "execution_count": 36
  },
  {
   "metadata": {
    "ExecuteTime": {
     "end_time": "2025-04-25T17:07:14.790697Z",
     "start_time": "2025-04-25T17:07:14.700377Z"
    }
   },
   "cell_type": "code",
   "source": [
    "for epoch in range(epochs):\n",
    "    #Forward propagation in neural network\n",
    "    model.train()\n",
    "    y_pred=model(X_train)\n",
    "    #Loss Function\n",
    "    loss=loss_function(y_pred,y_train)\n",
    "    #Backward Propagation\n",
    "    optimizer.zero_grad()\n",
    "    loss.backward()\n",
    "    #update parameters\n",
    "    optimizer.step()\n",
    "\n",
    "    #Store loss values for visualization\n",
    "    train_loss_values.append(loss.item())\n",
    "\n",
    "    if epoch % 10 ==0:\n",
    "        print(f'epoch :{epoch},Training loss:{loss}')\n"
   ],
   "id": "2d8b7530eec7654f",
   "outputs": [
    {
     "name": "stdout",
     "output_type": "stream",
     "text": [
      "epoch :0,Training loss:24150.22265625\n",
      "epoch :10,Training loss:10345.9619140625\n",
      "epoch :20,Training loss:4487.6689453125\n",
      "epoch :30,Training loss:1989.9300537109375\n",
      "epoch :40,Training loss:919.5137939453125\n",
      "epoch :50,Training loss:458.1982421875\n",
      "epoch :60,Training loss:258.1735534667969\n",
      "epoch :70,Training loss:170.87777709960938\n",
      "epoch :80,Training loss:132.51829528808594\n",
      "epoch :90,Training loss:115.54145050048828\n",
      "epoch :100,Training loss:107.97286224365234\n",
      "epoch :110,Training loss:104.57352447509766\n",
      "epoch :120,Training loss:103.0354995727539\n",
      "epoch :130,Training loss:102.33457946777344\n",
      "epoch :140,Training loss:102.01285552978516\n",
      "epoch :150,Training loss:101.86424255371094\n",
      "epoch :160,Training loss:101.79512023925781\n",
      "epoch :170,Training loss:101.7628173828125\n",
      "epoch :180,Training loss:101.74760437011719\n",
      "epoch :190,Training loss:101.74043273925781\n",
      "epoch :200,Training loss:101.73701477050781\n",
      "epoch :210,Training loss:101.73539733886719\n",
      "epoch :220,Training loss:101.73462677001953\n",
      "epoch :230,Training loss:101.73426818847656\n",
      "epoch :240,Training loss:101.73407745361328\n",
      "epoch :250,Training loss:101.7339859008789\n",
      "epoch :260,Training loss:101.73394775390625\n",
      "epoch :270,Training loss:101.73394012451172\n",
      "epoch :280,Training loss:101.73390197753906\n",
      "epoch :290,Training loss:101.73390197753906\n",
      "epoch :300,Training loss:101.7339096069336\n",
      "epoch :310,Training loss:101.73390197753906\n",
      "epoch :320,Training loss:101.73390197753906\n",
      "epoch :330,Training loss:101.73388671875\n",
      "epoch :340,Training loss:101.73389434814453\n",
      "epoch :350,Training loss:101.73390197753906\n",
      "epoch :360,Training loss:101.73390197753906\n",
      "epoch :370,Training loss:101.73392486572266\n",
      "epoch :380,Training loss:101.73390197753906\n",
      "epoch :390,Training loss:101.73390197753906\n"
     ]
    }
   ],
   "execution_count": 38
  },
  {
   "metadata": {
    "ExecuteTime": {
     "end_time": "2025-04-25T17:17:33.729319Z",
     "start_time": "2025-04-25T17:17:33.499545Z"
    }
   },
   "cell_type": "code",
   "source": [
    "#model evaluation based on test data\n",
    "\n",
    "model.eval()\n",
    "with torch.no_grad():\n",
    "    predictions=model(X_test)\n",
    "    plt.scatter(X_test.numpy(),y_test.numpy(),label='True',color='blue')\n",
    "    plt.scatter(X_test.numpy(),predictions.numpy(),label='predictions',color='red')\n",
    "    plt.xlabel('temperature(scaled)')\n",
    "    plt.ylabel('Ice Cream sales')\n",
    "    plt.title('True vs Predicted sales')\n",
    "    plt.legend()\n",
    "    plt.show()"
   ],
   "id": "2f533a0d4a455260",
   "outputs": [
    {
     "data": {
      "text/plain": [
       "<Figure size 640x480 with 1 Axes>"
      ],
      "image/png": "[encoded data removed]"
     },
     "metadata": {},
     "output_type": "display_data"
    }
   ],
   "execution_count": 39
  }
 ],
 "metadata": {
  "kernelspec": {
   "display_name": "Python 3",
   "language": "python",
   "name": "python3"
  },
  "language_info": {
   "codemirror_mode": {
    "name": "ipython",
    "version": 2
   },
   "file_extension": ".py",
   "mimetype": "text/x-python",
   "name": "python",
   "nbconvert_exporter": "python",
   "pygments_lexer": "ipython2",
   "version": "2.7.6"
  }
 },
 "nbformat": 4,
 "nbformat_minor": 5
}
